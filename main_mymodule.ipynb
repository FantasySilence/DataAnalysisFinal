{
 "cells": [
  {
   "cell_type": "markdown",
   "metadata": {},
   "source": [
    "@Author: Fantasy_Silence            \n",
    "@Time: 2024-04-24                   \n",
    "@IDE: Visual Studio Code & PyCharm  \n",
    "@Python: 3.9.7                      \n",
    "@Description: Using my data         "
   ]
  },
  {
   "cell_type": "markdown",
   "metadata": {},
   "source": [
    "# 一、导入必要的模块"
   ]
  },
  {
   "cell_type": "code",
   "execution_count": null,
   "metadata": {},
   "outputs": [],
   "source": [
    "print(\"=\" * 50)\n",
    "print(\"1.导入必要的模块\")\n",
    "print(\"=\" * 50)\n",
    "import time\n",
    "import pandas as pd\n",
    "import matplotlib.pyplot as plt\n",
    "\n",
    "from src.common.infoTool.const import CONST_TABLE\n",
    "from src.modules.datapreparation.dataparser import HousingDataParser\n",
    "from src.modules.datapreparation.datacrawler import HousingDataSpider\n",
    "from src.common.infoTool.randomIPandHeaders import RandomRequestInfoGenerator\n",
    "print(\n",
    "    \"完成'导入必要的模块'\", end=\"\\n\\n\"\n",
    ")"
   ]
  },
  {
   "cell_type": "markdown",
   "metadata": {},
   "source": [
    "# 二、数据爬取与解析"
   ]
  },
  {
   "cell_type": "code",
   "execution_count": null,
   "metadata": {},
   "outputs": [],
   "source": [
    "print(\"=\" * 50)\n",
    "print(\"0.数据爬取与解析\")\n",
    "print(\"=\" * 50)\n",
    "start_time = time.time()\n",
    "for city in CONST_TABLE[\"CITY\"].keys():\n",
    "    proxies, headers = RandomRequestInfoGenerator.get()\n",
    "    HousingDataSpider(city=city, headers=headers, proxies=proxies)\n",
    "    HousingDataParser(city=city)\n",
    "end_time = time.time()\n",
    "print(\n",
    "    \"完成'数据爬取与解析', 用时%.3fms\" % \n",
    "    ((end_time - start_time) * 1000), end=\"\\n\\n\"\n",
    ")"
   ]
  }
 ],
 "metadata": {
  "kernelspec": {
   "display_name": "venv",
   "language": "python",
   "name": "python3"
  },
  "language_info": {
   "name": "python",
   "version": "3.9.7"
  }
 },
 "nbformat": 4,
 "nbformat_minor": 2
}
